{
 "cells": [
  {
   "cell_type": "code",
   "execution_count": 1,
   "metadata": {},
   "outputs": [
    {
     "name": "stdout",
     "output_type": "stream",
     "text": [
      "pygame 2.1.2 (SDL 2.0.18, Python 3.10.4)\n",
      "Hello from the pygame community. https://www.pygame.org/contribute.html\n",
      "2.8.0\n"
     ]
    }
   ],
   "source": [
    "import random\n",
    "import time\n",
    "import importlib\n",
    "import game\n",
    "importlib.reload(game)\n",
    "import gameEnvF \n",
    "importlib.reload(gameEnvF)\n",
    "from game import ColorableCliqueGame\n",
    "import matplotlib.image as mpimg\n",
    "import matplotlib.pyplot as plt\n",
    "import numpy as np\n",
    "import tensorflow as tf\n",
    "\n",
    "from gameEnvF import draw, triangle_huristic, alphabetaMaxDepth, alphabetaMove, random_move, getPsuedoLegalStates, getLegalStatesAndTag\n",
    "print(tf.__version__)\n",
    "\n",
    "colors = [(255,100,100), (100,100,255)]\n",
    "env = ColorableCliqueGame(300,300,6,colors)\n",
    "#env.close()"
   ]
  },
  {
   "cell_type": "code",
   "execution_count": 2,
   "metadata": {},
   "outputs": [],
   "source": [
    "from sklearn.ensemble import RandomForestRegressor\n",
    "from sklearn.metrics import mean_squared_error\n",
    "import joblib\n",
    "\n",
    "loaded_rf = joblib.load(\"./models/rf_small.joblib\")"
   ]
  },
  {
   "cell_type": "code",
   "execution_count": 3,
   "metadata": {},
   "outputs": [],
   "source": [
    "def huristic_rf(game : ColorableCliqueGame):\n",
    "    return loaded_rf.predict([game.state1D()])[0]"
   ]
  },
  {
   "cell_type": "markdown",
   "metadata": {},
   "source": [
    "### Get all possible positions legal and illegal"
   ]
  },
  {
   "cell_type": "code",
   "execution_count": 4,
   "metadata": {},
   "outputs": [
    {
     "name": "stdout",
     "output_type": "stream",
     "text": [
      "500000\n",
      "1000000\n",
      "1500000\n",
      "2000000\n",
      "2500000\n",
      "3000000\n",
      "3500000\n",
      "4000000\n",
      "4500000\n",
      "5000000\n",
      "5500000\n",
      "6000000\n",
      "6500000\n",
      "7000000\n",
      "size :  14348907\n"
     ]
    }
   ],
   "source": [
    "from game import nCr\n",
    "\n",
    "allp = getPsuedoLegalStates()\n",
    "print(\"size : \", len(allp))"
   ]
  },
  {
   "cell_type": "markdown",
   "metadata": {},
   "source": [
    "### Sort the ilegal positions, and create the tag."
   ]
  },
  {
   "cell_type": "code",
   "execution_count": 5,
   "metadata": {},
   "outputs": [],
   "source": [
    "import importlib\n",
    "import game\n",
    "importlib.reload(game)\n",
    "from game import ColorableCliqueGame\n",
    "\n",
    "env = ColorableCliqueGame(300,300,6,colors)"
   ]
  },
  {
   "cell_type": "code",
   "execution_count": 8,
   "metadata": {},
   "outputs": [
    {
     "name": "stdout",
     "output_type": "stream",
     "text": [
      "500000\n"
     ]
    },
    {
     "ename": "KeyboardInterrupt",
     "evalue": "",
     "output_type": "error",
     "traceback": [
      "\u001b[1;31m---------------------------------------------------------------------------\u001b[0m",
      "\u001b[1;31mKeyboardInterrupt\u001b[0m                         Traceback (most recent call last)",
      "\u001b[1;32mc:\\MyDirectory\\Programming\\Machine Learning\\Final\\AdvancedDataMine.ipynb Cell 8'\u001b[0m in \u001b[0;36m<cell line: 1>\u001b[1;34m()\u001b[0m\n\u001b[1;32m----> <a href='vscode-notebook-cell:/c%3A/MyDirectory/Programming/Machine%20Learning/Final/AdvancedDataMine.ipynb#ch0000012?line=0'>1</a>\u001b[0m X \u001b[39m=\u001b[39m getLegalStatesAndTag(allp, \u001b[39m1\u001b[39;49m, huristic_rf)\n",
      "File \u001b[1;32mc:\\MyDirectory\\Programming\\Machine Learning\\Final\\gameEnvF.py:258\u001b[0m, in \u001b[0;36mgetLegalStatesAndTag\u001b[1;34m(psuedoLegalStates, depth, huristic_function)\u001b[0m\n\u001b[0;32m    256\u001b[0m     \u001b[39m# break\u001b[39;00m\n\u001b[0;32m    257\u001b[0m \u001b[39mif\u001b[39;00m env\u001b[39m.\u001b[39mloadfrom1D(state):\n\u001b[1;32m--> 258\u001b[0m     val \u001b[39m=\u001b[39m alphabetaMaxDepth(env, \u001b[39m-\u001b[39;49m\u001b[39m9999\u001b[39;49m, \u001b[39m9999\u001b[39;49m, depth, huristic_function)\n\u001b[0;32m    259\u001b[0m     \u001b[39m# print(val)\u001b[39;00m\n\u001b[0;32m    260\u001b[0m     \u001b[39m# print(env.winner)\u001b[39;00m\n\u001b[0;32m    261\u001b[0m     \u001b[39m# print(alphabetaMaxDepth(env, -9999, 9999, 2))\u001b[39;00m\n\u001b[0;32m    262\u001b[0m     X\u001b[39m.\u001b[39mappend([env\u001b[39m.\u001b[39mstate1D(), val])\n",
      "File \u001b[1;32mc:\\MyDirectory\\Programming\\Machine Learning\\Final\\gameEnvF.py:175\u001b[0m, in \u001b[0;36malphabetaMaxDepth\u001b[1;34m(cliqueGame, alpha, beta, depth, huristic_function)\u001b[0m\n\u001b[0;32m    157\u001b[0m cliqueGame\u001b[39m.\u001b[39mapplyMove(move)\n\u001b[0;32m    158\u001b[0m \u001b[39m# after each move the current player can only lose.\u001b[39;00m\n\u001b[0;32m    159\u001b[0m \u001b[39m# assume that this is the turn of player 0.\u001b[39;00m\n\u001b[0;32m    160\u001b[0m \u001b[39m# if after playing 0 lost. (1 won)\u001b[39;00m\n\u001b[1;32m   (...)\u001b[0m\n\u001b[0;32m    172\u001b[0m \u001b[39m#         alphabetaMaxDepth(cliqueGame, alpha, beta, depth-1, huristicsf)\u001b[39;00m\n\u001b[0;32m    173\u001b[0m \u001b[39m# else:\u001b[39;00m\n\u001b[0;32m    174\u001b[0m score \u001b[39m=\u001b[39m color \u001b[39m*\u001b[39m \u001b[39m0.975\u001b[39m \u001b[39m*\u001b[39m \\\n\u001b[1;32m--> 175\u001b[0m     alphabetaMaxDepth(cliqueGame, \u001b[39m-\u001b[39;49mbeta, \u001b[39m-\u001b[39;49malpha,\n\u001b[0;32m    176\u001b[0m                       depth\u001b[39m-\u001b[39;49m\u001b[39m1\u001b[39;49m, huristic_function)\n\u001b[0;32m    177\u001b[0m cliqueGame\u001b[39m.\u001b[39mundo()\n\u001b[0;32m    179\u001b[0m \u001b[39mif\u001b[39;00m(score \u001b[39m>\u001b[39m\u001b[39m=\u001b[39m beta):\n",
      "File \u001b[1;32mc:\\MyDirectory\\Programming\\Machine Learning\\Final\\gameEnvF.py:152\u001b[0m, in \u001b[0;36malphabetaMaxDepth\u001b[1;34m(cliqueGame, alpha, beta, depth, huristic_function)\u001b[0m\n\u001b[0;32m    150\u001b[0m     \u001b[39mreturn\u001b[39;00m score\n\u001b[0;32m    151\u001b[0m \u001b[39mif\u001b[39;00m(depth \u001b[39m==\u001b[39m \u001b[39m0\u001b[39m):\n\u001b[1;32m--> 152\u001b[0m     \u001b[39mreturn\u001b[39;00m huristic_function(cliqueGame)\n\u001b[0;32m    154\u001b[0m \u001b[39m# curr = cliqueGame.player\u001b[39;00m\n\u001b[0;32m    155\u001b[0m color \u001b[39m=\u001b[39m \u001b[39m-\u001b[39m(cliqueGame\u001b[39m.\u001b[39mplayer \u001b[39m*\u001b[39m \u001b[39m2\u001b[39m \u001b[39m-\u001b[39m \u001b[39m1\u001b[39m)  \u001b[39m# if player 1 then color = -1\u001b[39;00m\n",
      "\u001b[1;32mc:\\MyDirectory\\Programming\\Machine Learning\\Final\\AdvancedDataMine.ipynb Cell 3'\u001b[0m in \u001b[0;36mhuristic_rf\u001b[1;34m(game)\u001b[0m\n\u001b[0;32m      <a href='vscode-notebook-cell:/c%3A/MyDirectory/Programming/Machine%20Learning/Final/AdvancedDataMine.ipynb#ch0000018?line=0'>1</a>\u001b[0m \u001b[39mdef\u001b[39;00m \u001b[39mhuristic_rf\u001b[39m(game : ColorableCliqueGame):\n\u001b[1;32m----> <a href='vscode-notebook-cell:/c%3A/MyDirectory/Programming/Machine%20Learning/Final/AdvancedDataMine.ipynb#ch0000018?line=1'>2</a>\u001b[0m     \u001b[39mreturn\u001b[39;00m loaded_rf\u001b[39m.\u001b[39;49mpredict([game\u001b[39m.\u001b[39;49mstate1D()])[\u001b[39m0\u001b[39m]\n",
      "File \u001b[1;32mc:\\Users\\Michael\\anaconda3\\envs\\chessAi\\lib\\site-packages\\sklearn\\ensemble\\_forest.py:1004\u001b[0m, in \u001b[0;36mForestRegressor.predict\u001b[1;34m(self, X)\u001b[0m\n\u001b[0;32m   1002\u001b[0m \u001b[39m# Parallel loop\u001b[39;00m\n\u001b[0;32m   1003\u001b[0m lock \u001b[39m=\u001b[39m threading\u001b[39m.\u001b[39mLock()\n\u001b[1;32m-> 1004\u001b[0m Parallel(n_jobs\u001b[39m=\u001b[39;49mn_jobs, verbose\u001b[39m=\u001b[39;49m\u001b[39mself\u001b[39;49m\u001b[39m.\u001b[39;49mverbose, require\u001b[39m=\u001b[39;49m\u001b[39m\"\u001b[39;49m\u001b[39msharedmem\u001b[39;49m\u001b[39m\"\u001b[39;49m)(\n\u001b[0;32m   1005\u001b[0m     delayed(_accumulate_prediction)(e\u001b[39m.\u001b[39;49mpredict, X, [y_hat], lock)\n\u001b[0;32m   1006\u001b[0m     \u001b[39mfor\u001b[39;49;00m e \u001b[39min\u001b[39;49;00m \u001b[39mself\u001b[39;49m\u001b[39m.\u001b[39;49mestimators_\n\u001b[0;32m   1007\u001b[0m )\n\u001b[0;32m   1009\u001b[0m y_hat \u001b[39m/\u001b[39m\u001b[39m=\u001b[39m \u001b[39mlen\u001b[39m(\u001b[39mself\u001b[39m\u001b[39m.\u001b[39mestimators_)\n\u001b[0;32m   1011\u001b[0m \u001b[39mreturn\u001b[39;00m y_hat\n",
      "File \u001b[1;32mc:\\Users\\Michael\\anaconda3\\envs\\chessAi\\lib\\site-packages\\joblib\\parallel.py:1046\u001b[0m, in \u001b[0;36mParallel.__call__\u001b[1;34m(self, iterable)\u001b[0m\n\u001b[0;32m   1043\u001b[0m \u001b[39mif\u001b[39;00m \u001b[39mself\u001b[39m\u001b[39m.\u001b[39mdispatch_one_batch(iterator):\n\u001b[0;32m   1044\u001b[0m     \u001b[39mself\u001b[39m\u001b[39m.\u001b[39m_iterating \u001b[39m=\u001b[39m \u001b[39mself\u001b[39m\u001b[39m.\u001b[39m_original_iterator \u001b[39mis\u001b[39;00m \u001b[39mnot\u001b[39;00m \u001b[39mNone\u001b[39;00m\n\u001b[1;32m-> 1046\u001b[0m \u001b[39mwhile\u001b[39;00m \u001b[39mself\u001b[39;49m\u001b[39m.\u001b[39;49mdispatch_one_batch(iterator):\n\u001b[0;32m   1047\u001b[0m     \u001b[39mpass\u001b[39;00m\n\u001b[0;32m   1049\u001b[0m \u001b[39mif\u001b[39;00m pre_dispatch \u001b[39m==\u001b[39m \u001b[39m\"\u001b[39m\u001b[39mall\u001b[39m\u001b[39m\"\u001b[39m \u001b[39mor\u001b[39;00m n_jobs \u001b[39m==\u001b[39m \u001b[39m1\u001b[39m:\n\u001b[0;32m   1050\u001b[0m     \u001b[39m# The iterable was consumed all at once by the above for loop.\u001b[39;00m\n\u001b[0;32m   1051\u001b[0m     \u001b[39m# No need to wait for async callbacks to trigger to\u001b[39;00m\n\u001b[0;32m   1052\u001b[0m     \u001b[39m# consumption.\u001b[39;00m\n",
      "File \u001b[1;32mc:\\Users\\Michael\\anaconda3\\envs\\chessAi\\lib\\site-packages\\joblib\\parallel.py:861\u001b[0m, in \u001b[0;36mParallel.dispatch_one_batch\u001b[1;34m(self, iterator)\u001b[0m\n\u001b[0;32m    859\u001b[0m     \u001b[39mreturn\u001b[39;00m \u001b[39mFalse\u001b[39;00m\n\u001b[0;32m    860\u001b[0m \u001b[39melse\u001b[39;00m:\n\u001b[1;32m--> 861\u001b[0m     \u001b[39mself\u001b[39;49m\u001b[39m.\u001b[39;49m_dispatch(tasks)\n\u001b[0;32m    862\u001b[0m     \u001b[39mreturn\u001b[39;00m \u001b[39mTrue\u001b[39;00m\n",
      "File \u001b[1;32mc:\\Users\\Michael\\anaconda3\\envs\\chessAi\\lib\\site-packages\\joblib\\parallel.py:779\u001b[0m, in \u001b[0;36mParallel._dispatch\u001b[1;34m(self, batch)\u001b[0m\n\u001b[0;32m    777\u001b[0m \u001b[39mwith\u001b[39;00m \u001b[39mself\u001b[39m\u001b[39m.\u001b[39m_lock:\n\u001b[0;32m    778\u001b[0m     job_idx \u001b[39m=\u001b[39m \u001b[39mlen\u001b[39m(\u001b[39mself\u001b[39m\u001b[39m.\u001b[39m_jobs)\n\u001b[1;32m--> 779\u001b[0m     job \u001b[39m=\u001b[39m \u001b[39mself\u001b[39;49m\u001b[39m.\u001b[39;49m_backend\u001b[39m.\u001b[39;49mapply_async(batch, callback\u001b[39m=\u001b[39;49mcb)\n\u001b[0;32m    780\u001b[0m     \u001b[39m# A job can complete so quickly than its callback is\u001b[39;00m\n\u001b[0;32m    781\u001b[0m     \u001b[39m# called before we get here, causing self._jobs to\u001b[39;00m\n\u001b[0;32m    782\u001b[0m     \u001b[39m# grow. To ensure correct results ordering, .insert is\u001b[39;00m\n\u001b[0;32m    783\u001b[0m     \u001b[39m# used (rather than .append) in the following line\u001b[39;00m\n\u001b[0;32m    784\u001b[0m     \u001b[39mself\u001b[39m\u001b[39m.\u001b[39m_jobs\u001b[39m.\u001b[39minsert(job_idx, job)\n",
      "File \u001b[1;32mc:\\Users\\Michael\\anaconda3\\envs\\chessAi\\lib\\site-packages\\joblib\\_parallel_backends.py:208\u001b[0m, in \u001b[0;36mSequentialBackend.apply_async\u001b[1;34m(self, func, callback)\u001b[0m\n\u001b[0;32m    206\u001b[0m \u001b[39mdef\u001b[39;00m \u001b[39mapply_async\u001b[39m(\u001b[39mself\u001b[39m, func, callback\u001b[39m=\u001b[39m\u001b[39mNone\u001b[39;00m):\n\u001b[0;32m    207\u001b[0m     \u001b[39m\"\"\"Schedule a func to be run\"\"\"\u001b[39;00m\n\u001b[1;32m--> 208\u001b[0m     result \u001b[39m=\u001b[39m ImmediateResult(func)\n\u001b[0;32m    209\u001b[0m     \u001b[39mif\u001b[39;00m callback:\n\u001b[0;32m    210\u001b[0m         callback(result)\n",
      "File \u001b[1;32mc:\\Users\\Michael\\anaconda3\\envs\\chessAi\\lib\\site-packages\\joblib\\_parallel_backends.py:572\u001b[0m, in \u001b[0;36mImmediateResult.__init__\u001b[1;34m(self, batch)\u001b[0m\n\u001b[0;32m    569\u001b[0m \u001b[39mdef\u001b[39;00m \u001b[39m__init__\u001b[39m(\u001b[39mself\u001b[39m, batch):\n\u001b[0;32m    570\u001b[0m     \u001b[39m# Don't delay the application, to avoid keeping the input\u001b[39;00m\n\u001b[0;32m    571\u001b[0m     \u001b[39m# arguments in memory\u001b[39;00m\n\u001b[1;32m--> 572\u001b[0m     \u001b[39mself\u001b[39m\u001b[39m.\u001b[39mresults \u001b[39m=\u001b[39m batch()\n",
      "File \u001b[1;32mc:\\Users\\Michael\\anaconda3\\envs\\chessAi\\lib\\site-packages\\joblib\\parallel.py:262\u001b[0m, in \u001b[0;36mBatchedCalls.__call__\u001b[1;34m(self)\u001b[0m\n\u001b[0;32m    258\u001b[0m \u001b[39mdef\u001b[39;00m \u001b[39m__call__\u001b[39m(\u001b[39mself\u001b[39m):\n\u001b[0;32m    259\u001b[0m     \u001b[39m# Set the default nested backend to self._backend but do not set the\u001b[39;00m\n\u001b[0;32m    260\u001b[0m     \u001b[39m# change the default number of processes to -1\u001b[39;00m\n\u001b[0;32m    261\u001b[0m     \u001b[39mwith\u001b[39;00m parallel_backend(\u001b[39mself\u001b[39m\u001b[39m.\u001b[39m_backend, n_jobs\u001b[39m=\u001b[39m\u001b[39mself\u001b[39m\u001b[39m.\u001b[39m_n_jobs):\n\u001b[1;32m--> 262\u001b[0m         \u001b[39mreturn\u001b[39;00m [func(\u001b[39m*\u001b[39margs, \u001b[39m*\u001b[39m\u001b[39m*\u001b[39mkwargs)\n\u001b[0;32m    263\u001b[0m                 \u001b[39mfor\u001b[39;00m func, args, kwargs \u001b[39min\u001b[39;00m \u001b[39mself\u001b[39m\u001b[39m.\u001b[39mitems]\n",
      "File \u001b[1;32mc:\\Users\\Michael\\anaconda3\\envs\\chessAi\\lib\\site-packages\\joblib\\parallel.py:262\u001b[0m, in \u001b[0;36m<listcomp>\u001b[1;34m(.0)\u001b[0m\n\u001b[0;32m    258\u001b[0m \u001b[39mdef\u001b[39;00m \u001b[39m__call__\u001b[39m(\u001b[39mself\u001b[39m):\n\u001b[0;32m    259\u001b[0m     \u001b[39m# Set the default nested backend to self._backend but do not set the\u001b[39;00m\n\u001b[0;32m    260\u001b[0m     \u001b[39m# change the default number of processes to -1\u001b[39;00m\n\u001b[0;32m    261\u001b[0m     \u001b[39mwith\u001b[39;00m parallel_backend(\u001b[39mself\u001b[39m\u001b[39m.\u001b[39m_backend, n_jobs\u001b[39m=\u001b[39m\u001b[39mself\u001b[39m\u001b[39m.\u001b[39m_n_jobs):\n\u001b[1;32m--> 262\u001b[0m         \u001b[39mreturn\u001b[39;00m [func(\u001b[39m*\u001b[39margs, \u001b[39m*\u001b[39m\u001b[39m*\u001b[39mkwargs)\n\u001b[0;32m    263\u001b[0m                 \u001b[39mfor\u001b[39;00m func, args, kwargs \u001b[39min\u001b[39;00m \u001b[39mself\u001b[39m\u001b[39m.\u001b[39mitems]\n",
      "File \u001b[1;32mc:\\Users\\Michael\\anaconda3\\envs\\chessAi\\lib\\site-packages\\sklearn\\utils\\fixes.py:117\u001b[0m, in \u001b[0;36m_FuncWrapper.__call__\u001b[1;34m(self, *args, **kwargs)\u001b[0m\n\u001b[0;32m    115\u001b[0m \u001b[39mdef\u001b[39;00m \u001b[39m__call__\u001b[39m(\u001b[39mself\u001b[39m, \u001b[39m*\u001b[39margs, \u001b[39m*\u001b[39m\u001b[39m*\u001b[39mkwargs):\n\u001b[0;32m    116\u001b[0m     \u001b[39mwith\u001b[39;00m config_context(\u001b[39m*\u001b[39m\u001b[39m*\u001b[39m\u001b[39mself\u001b[39m\u001b[39m.\u001b[39mconfig):\n\u001b[1;32m--> 117\u001b[0m         \u001b[39mreturn\u001b[39;00m \u001b[39mself\u001b[39m\u001b[39m.\u001b[39mfunction(\u001b[39m*\u001b[39margs, \u001b[39m*\u001b[39m\u001b[39m*\u001b[39mkwargs)\n",
      "File \u001b[1;32mc:\\Users\\Michael\\anaconda3\\envs\\chessAi\\lib\\site-packages\\sklearn\\ensemble\\_forest.py:664\u001b[0m, in \u001b[0;36m_accumulate_prediction\u001b[1;34m(predict, X, out, lock)\u001b[0m\n\u001b[0;32m    657\u001b[0m \u001b[39mdef\u001b[39;00m \u001b[39m_accumulate_prediction\u001b[39m(predict, X, out, lock):\n\u001b[0;32m    658\u001b[0m     \u001b[39m\"\"\"\u001b[39;00m\n\u001b[0;32m    659\u001b[0m \u001b[39m    This is a utility function for joblib's Parallel.\u001b[39;00m\n\u001b[0;32m    660\u001b[0m \n\u001b[0;32m    661\u001b[0m \u001b[39m    It can't go locally in ForestClassifier or ForestRegressor, because joblib\u001b[39;00m\n\u001b[0;32m    662\u001b[0m \u001b[39m    complains that it cannot pickle it when placed there.\u001b[39;00m\n\u001b[0;32m    663\u001b[0m \u001b[39m    \"\"\"\u001b[39;00m\n\u001b[1;32m--> 664\u001b[0m     prediction \u001b[39m=\u001b[39m predict(X, check_input\u001b[39m=\u001b[39;49m\u001b[39mFalse\u001b[39;49;00m)\n\u001b[0;32m    665\u001b[0m     \u001b[39mwith\u001b[39;00m lock:\n\u001b[0;32m    666\u001b[0m         \u001b[39mif\u001b[39;00m \u001b[39mlen\u001b[39m(out) \u001b[39m==\u001b[39m \u001b[39m1\u001b[39m:\n",
      "File \u001b[1;32mc:\\Users\\Michael\\anaconda3\\envs\\chessAi\\lib\\site-packages\\sklearn\\tree\\_classes.py:506\u001b[0m, in \u001b[0;36mBaseDecisionTree.predict\u001b[1;34m(self, X, check_input)\u001b[0m\n\u001b[0;32m    504\u001b[0m check_is_fitted(\u001b[39mself\u001b[39m)\n\u001b[0;32m    505\u001b[0m X \u001b[39m=\u001b[39m \u001b[39mself\u001b[39m\u001b[39m.\u001b[39m_validate_X_predict(X, check_input)\n\u001b[1;32m--> 506\u001b[0m proba \u001b[39m=\u001b[39m \u001b[39mself\u001b[39;49m\u001b[39m.\u001b[39;49mtree_\u001b[39m.\u001b[39;49mpredict(X)\n\u001b[0;32m    507\u001b[0m n_samples \u001b[39m=\u001b[39m X\u001b[39m.\u001b[39mshape[\u001b[39m0\u001b[39m]\n\u001b[0;32m    509\u001b[0m \u001b[39m# Classification\u001b[39;00m\n",
      "\u001b[1;31mKeyboardInterrupt\u001b[0m: "
     ]
    }
   ],
   "source": [
    "X = getLegalStatesAndTag(allp, 1, huristic_rf)\n",
    "\n",
    "# 41 min for BIF RF. and failed to get too 100k"
   ]
  },
  {
   "cell_type": "code",
   "execution_count": null,
   "metadata": {},
   "outputs": [
    {
     "name": "stdout",
     "output_type": "stream",
     "text": [
      "[ 1  1  1  1 -1  0  0 -1  0  0  0 -1  0 -1 -1 -1] -2.7805781249999995\n",
      "True\n",
      "-1.95\n",
      "-1\n"
     ]
    },
    {
     "data": {
      "image/png": "[encoded data removed]",
      "text/plain": [
       "<Figure size 432x288 with 1 Axes>"
      ]
     },
     "metadata": {
      "needs_background": "light"
     },
     "output_type": "display_data"
    }
   ],
   "source": [
    "drawIndex = 43006\n",
    "env = ColorableCliqueGame(300,300,6,colors)\n",
    "print(X[drawIndex][0], X[drawIndex][1])\n",
    "print(env.loadfrom1D(X[drawIndex][0]))\n",
    "print(alphabetaMaxDepth(env, -9999, 9999, 1, triangle_huristic))\n",
    "print(env.winner)\n",
    "draw(env)\n",
    "\n",
    "# [ 1  1  1  1  1 -1  0 -1  0  0  0 -1  0 -1 -1  1] -97.5\n",
    "# True\n",
    "# -97.5\n",
    "# -1"
   ]
  },
  {
   "cell_type": "code",
   "execution_count": null,
   "metadata": {},
   "outputs": [],
   "source": [
    "# def save(X, name, maxSize):\n",
    "#     folds = int(X.shape[0] / maxSize)\n",
    "#     for i in range(folds):\n",
    "#         sn = name + \"_p\" + i + \".npy\"\n",
    "#         with open(sn, 'wb') as f:\n",
    "#             np.save(f, X[i * maxSize: (i+1) * maxSize])\n",
    "#save(X, \"K6D3\", 10000)\n",
    "#import gzip\n",
    "\n",
    "filename = 'K6D3_rf.npz'\n",
    "with open(filename, 'wb') as f:\n",
    "    np.savez_compressed(f, data=X)\n",
    "    #f.close()\n",
    "#np.savez_compressed('/tmp/123', a=X)"
   ]
  },
  {
   "cell_type": "code",
   "execution_count": null,
   "metadata": {},
   "outputs": [],
   "source": [
    "with open(filename, 'rb') as f:\n",
    "    a = np.load(f, allow_pickle=True)\n",
    "    data = a['data']"
   ]
  },
  {
   "cell_type": "code",
   "execution_count": null,
   "metadata": {},
   "outputs": [
    {
     "name": "stdout",
     "output_type": "stream",
     "text": [
      "[array([ 1,  1,  1,  1,  0,  0,  0,  0, -1,  0,  0, -1, -1, -1, -1, -1],\n",
      "       dtype=int64)\n",
      " -100]\n",
      "[array([ 1,  1,  1,  1,  0,  0,  0,  0, -1,  0,  0, -1, -1, -1, -1, -1],\n",
      "       dtype=int64)\n",
      " -100]\n"
     ]
    }
   ],
   "source": [
    "print(data[0])\n",
    "print(X[0])"
   ]
  }
 ],
 "metadata": {
  "kernelspec": {
   "display_name": "Python 3.10.4 ('chessAi')",
   "language": "python",
   "name": "python3"
  },
  "language_info": {
   "codemirror_mode": {
    "name": "ipython",
    "version": 3
   },
   "file_extension": ".py",
   "mimetype": "text/x-python",
   "name": "python",
   "nbconvert_exporter": "python",
   "pygments_lexer": "ipython3",
   "version": "3.10.4"
  },
  "orig_nbformat": 4,
  "vscode": {
   "interpreter": {
    "hash": "9e56621c40734703c1226df9790e64197652162693e6cafdd98418add6b22949"
   }
  }
 },
 "nbformat": 4,
 "nbformat_minor": 2
}
