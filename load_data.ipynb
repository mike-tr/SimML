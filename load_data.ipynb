{
 "cells": [
  {
   "cell_type": "code",
   "execution_count": 2,
   "metadata": {},
   "outputs": [
    {
     "name": "stdout",
     "output_type": "stream",
     "text": [
      "pygame 2.1.2 (SDL 2.0.18, Python 3.10.4)\n",
      "Hello from the pygame community. https://www.pygame.org/contribute.html\n"
     ]
    }
   ],
   "source": [
    "import numpy as np\n",
    "import importlib\n",
    "import game\n",
    "importlib.reload(game)\n",
    "from game import ColorableCliqueGame\n",
    "import matplotlib.image as mpimg\n",
    "import matplotlib.pyplot as plt\n",
    "\n",
    "def draw(env):\n",
    "    imgdata = env.frame()\n",
    "    plt.imshow(imgdata)\n",
    "    #print(np.max(imgdata), np.min(imgdata), np.average(imgdata))\n",
    "    plt.show()\n",
    "\n",
    "with open('K6D3.npy', 'rb') as f:\n",
    "    a = np.load(f, allow_pickle=True)['data']"
   ]
  },
  {
   "cell_type": "code",
   "execution_count": 12,
   "metadata": {},
   "outputs": [],
   "source": [
    "X = a[:, 0]\n",
    "Y = a[:, 1]"
   ]
  },
  {
   "cell_type": "code",
   "execution_count": 14,
   "metadata": {},
   "outputs": [
    {
     "name": "stdout",
     "output_type": "stream",
     "text": [
      "(2576722,) (2576722,)\n",
      "[ 0  1 -1  0  1 -1  1  0  1  0  0 -1  0 -1 -1 -1] 1.8537187499999999\n",
      "player turn: -1\n"
     ]
    }
   ],
   "source": [
    "# some tests.\n",
    "index = 45000\n",
    "print(X.shape, Y.shape)\n",
    "print(X[index], Y[index])\n",
    "print(\"player turn:\", X[45000][-1])"
   ]
  }
 ],
 "metadata": {
  "kernelspec": {
   "display_name": "Python 3.10.4 ('chessAi')",
   "language": "python",
   "name": "python3"
  },
  "language_info": {
   "codemirror_mode": {
    "name": "ipython",
    "version": 3
   },
   "file_extension": ".py",
   "mimetype": "text/x-python",
   "name": "python",
   "nbconvert_exporter": "python",
   "pygments_lexer": "ipython3",
   "version": "3.10.4"
  },
  "orig_nbformat": 4,
  "vscode": {
   "interpreter": {
    "hash": "9e56621c40734703c1226df9790e64197652162693e6cafdd98418add6b22949"
   }
  }
 },
 "nbformat": 4,
 "nbformat_minor": 2
}
