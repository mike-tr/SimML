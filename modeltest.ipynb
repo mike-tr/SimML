{
 "cells": [
  {
   "cell_type": "code",
   "execution_count": 265,
   "metadata": {},
   "outputs": [
    {
     "name": "stdout",
     "output_type": "stream",
     "text": [
      "2.8.0\n"
     ]
    }
   ],
   "source": [
    "import random\n",
    "import time\n",
    "import importlib\n",
    "import game\n",
    "importlib.reload(game)\n",
    "import gameEnvF \n",
    "importlib.reload(gameEnvF)\n",
    "from game import ColorableCliqueGame\n",
    "import matplotlib.image as mpimg\n",
    "import matplotlib.pyplot as plt\n",
    "import numpy as np\n",
    "import tensorflow as tf\n",
    "\n",
    "from gameEnvF import draw, triangle_huristic, alphabetaMaxDepth, alphabetaMove, random_move, getPsuedoLegalStates, getLegalStatesAndTag, triangleP0_huristic, triangleSQR_huristic\n",
    "print(tf.__version__)\n",
    "\n",
    "colors = [(255,100,100), (100,100,255)]\n",
    "env = ColorableCliqueGame(300,300,6,colors)"
   ]
  },
  {
   "cell_type": "code",
   "execution_count": 210,
   "metadata": {},
   "outputs": [],
   "source": [
    "with open('K6D4.npz', 'rb') as f:\n",
    "    a = np.load(f, allow_pickle=True)['data']"
   ]
  },
  {
   "cell_type": "code",
   "execution_count": 211,
   "metadata": {},
   "outputs": [
    {
     "name": "stdout",
     "output_type": "stream",
     "text": [
      "-0.10843883 0.8265876\n",
      "(2576722, 16) (2576722,)\n"
     ]
    }
   ],
   "source": [
    "X : np.ndarray = a[:, 0]\n",
    "Y : np.ndarray = a[:, 1]\n",
    "Y = Y.astype(np.float32)\n",
    "Y = np.tanh(Y)\n",
    "X = np.array(list(X))\n",
    "print(Y.mean(), Y.var())\n",
    "print(X.shape, Y.shape)"
   ]
  },
  {
   "cell_type": "code",
   "execution_count": 257,
   "metadata": {},
   "outputs": [],
   "source": [
    "from sklearn.ensemble import RandomForestRegressor\n",
    "from sklearn.metrics import mean_squared_error\n",
    "import joblib\n",
    "\n",
    "rfd3 = joblib.load(\"./models/rfd3s.joblib\")"
   ]
  },
  {
   "cell_type": "code",
   "execution_count": 260,
   "metadata": {},
   "outputs": [],
   "source": [
    "rfd5 = joblib.load(\"./models/rfd5s2.joblib\")"
   ]
  },
  {
   "cell_type": "code",
   "execution_count": 261,
   "metadata": {},
   "outputs": [
    {
     "name": "stdout",
     "output_type": "stream",
     "text": [
      "0.4631324294512455\n"
     ]
    }
   ],
   "source": [
    "target_predicted = rfd3.predict(X)\n",
    "print(mean_squared_error(Y, target_predicted))"
   ]
  },
  {
   "cell_type": "code",
   "execution_count": 253,
   "metadata": {},
   "outputs": [
    {
     "name": "stdout",
     "output_type": "stream",
     "text": [
      "0.43042136213826704\n"
     ]
    }
   ],
   "source": [
    "target_predicted = rfd5.predict(X)\n",
    "print(mean_squared_error(Y, target_predicted))"
   ]
  },
  {
   "cell_type": "markdown",
   "metadata": {},
   "source": [
    "### Test original depth 2 vs depth 3."
   ]
  },
  {
   "cell_type": "code",
   "execution_count": 27,
   "metadata": {},
   "outputs": [
    {
     "name": "stdout",
     "output_type": "stream",
     "text": [
      "1\n"
     ]
    },
    {
     "data": {
      "image/png": "[encoded data removed]",
      "text/plain": [
       "<Figure size 432x288 with 1 Axes>"
      ]
     },
     "metadata": {
      "needs_background": "light"
     },
     "output_type": "display_data"
    }
   ],
   "source": [
    "env = ColorableCliqueGame(300,300,6,colors)\n",
    "def FuncVsFunc(game : ColorableCliqueGame,player1DecisionFunc, player2DecisionFunc):\n",
    "    while game.winner == -1:\n",
    "        if game.player == 0:\n",
    "            player1DecisionFunc(game)\n",
    "        else:\n",
    "            player2DecisionFunc(game)\n",
    "\n",
    "\n",
    "def player1(game):\n",
    "    alphabetaMove(game, 3, triangle_huristic)\n",
    "\n",
    "def player2(game):\n",
    "    #print(game.player)\n",
    "    alphabetaMove(game, 2, triangle_huristic)\n",
    "\n",
    "random_move(env)\n",
    "FuncVsFunc(env, player1, player2)\n",
    "print(env.winner)\n",
    "draw(env)"
   ]
  },
  {
   "cell_type": "markdown",
   "metadata": {},
   "source": [
    "### make lots of test...    "
   ]
  },
  {
   "cell_type": "code",
   "execution_count": 28,
   "metadata": {},
   "outputs": [],
   "source": [
    "def tests(num, player1, player2, random_moves):\n",
    "    p0wins = 0\n",
    "    p1wins = 0\n",
    "    for i in range(num):\n",
    "        env = ColorableCliqueGame(300,300,6,colors)\n",
    "        for _ in range(random_moves):\n",
    "            random_move(env)\n",
    "        FuncVsFunc(env, player1, player2)\n",
    "        if env.winner == 0:\n",
    "            p0wins += 1\n",
    "        else:\n",
    "            p1wins += 1\n",
    "    print(\"player0 won\", p0wins, \"| player1 won\", p1wins)"
   ]
  },
  {
   "cell_type": "code",
   "execution_count": 266,
   "metadata": {},
   "outputs": [
    {
     "name": "stdout",
     "output_type": "stream",
     "text": [
      "player0 won 69 | player1 won 31\n",
      "player0 won 46 | player1 won 54\n",
      "player0 won 72 | player1 won 28\n",
      "player0 won 81 | player1 won 19\n"
     ]
    }
   ],
   "source": [
    "def player1(game):\n",
    "    alphabetaMove(game, 3, triangle_huristic)\n",
    "\n",
    "def player2(game):\n",
    "    #print(game.player)\n",
    "    alphabetaMove(game, 3, triangleSQR_huristic)\n",
    "\n",
    "\n",
    "tests(100, player1, player2, 2)\n",
    "tests(100, player2, player1, 2)\n",
    "tests(100, player1, player2, 1)\n",
    "tests(100, player2, player1, 1)\n",
    "\n",
    "# t1 - t0\n",
    "# player0 won 48 | player1 won 52\n",
    "# player0 won 21 | player1 won 79\n",
    "# player0 won 28 | player1 won 72\n",
    "# player0 won 43 | player1 won 57\n",
    "\n",
    "# t1 for p1, and -t0 for p2\n",
    "# player0 won 82 | player1 won 18\n",
    "# player0 won 18 | player1 won 82\n",
    "# player0 won 100 | player1 won 0\n",
    "# player0 won 27 | player1 won 73\n",
    "\n",
    "# -t0.\n",
    "# player0 won 80 | player1 won 20\n",
    "# player0 won 30 | player1 won 70\n",
    "# player0 won 100 | player1 won 0\n",
    "# player0 won 79 | player1 won 21\n",
    "\n",
    "# t1 - (t0)^2\n",
    "# player0 won 77 | player1 won 23\n",
    "# player0 won 32 | player1 won 68\n",
    "# player0 won 80 | player1 won 20\n",
    "# player0 won 53 | player1 won 47"
   ]
  },
  {
   "cell_type": "code",
   "execution_count": 44,
   "metadata": {},
   "outputs": [
    {
     "name": "stdout",
     "output_type": "stream",
     "text": [
      "player0 won 72 | player1 won 28\n",
      "player0 won 32 | player1 won 68\n",
      "player0 won 91 | player1 won 9\n",
      "player0 won 69 | player1 won 31\n"
     ]
    }
   ],
   "source": [
    "def player1(game):\n",
    "    alphabetaMove(game, 5, triangle_huristic)\n",
    "\n",
    "def player2(game):\n",
    "    #print(game.player)\n",
    "    alphabetaMove(game, 3, triangleSQR_huristic)\n",
    "\n",
    "tests(100, player1, player2, 2)\n",
    "tests(100, player2, player1, 2)\n",
    "tests(100, player1, player2, 1)\n",
    "tests(100, player2, player1, 1)\n",
    "\n",
    "# old\n",
    "# player0 won 63 | player1 won 37\n",
    "\n",
    "# old 2\n",
    "# player0 won 61 | player1 won 39\n",
    "# player0 won 14 | player1 won 86\n",
    "# player0 won 50 | player1 won 50\n",
    "# player0 won 15 | player1 won 85\n",
    "\n",
    "# -t0.\n",
    "# player0 won 85 | player1 won 15\n",
    "# player0 won 8 | player1 won 92\n",
    "# player0 won 90 | player1 won 10"
   ]
  },
  {
   "cell_type": "code",
   "execution_count": 267,
   "metadata": {},
   "outputs": [],
   "source": [
    "def player1(game):\n",
    "    alphabetaMove(game, 5, triangle_huristic)\n",
    "\n",
    "def player2(game):\n",
    "    #print(game.player)\n",
    "    alphabetaMove(game, 2, triangle_huristic)\n",
    "\n",
    "tests(100, player1, player2, 2)\n",
    "tests(100, player2, player1, 2)\n",
    "tests(100, player1, player2, 1)\n",
    "tests(100, player2, player1, 1)\n",
    "\n",
    "# OLD\n",
    "# player0 won 40 | player1 won 10\n",
    "# player0 won 16 | player1 won 34\n",
    "# player0 won 28 | player1 won 22\n",
    "# player0 won 33 | player1 won 17\n",
    "\n",
    "# Old 2\n",
    "# player0 won 82 | player1 won 18\n",
    "# player0 won 22 | player1 won 78\n",
    "\n",
    "# -p0\n",
    "# player0 won 85 | player1 won 15\n",
    "# player0 won 15 | player1 won 85\n",
    "# player0 won 93 | player1 won 7\n",
    "# player0 won 8 | player1 won 92"
   ]
  },
  {
   "cell_type": "code",
   "execution_count": 47,
   "metadata": {},
   "outputs": [
    {
     "name": "stdout",
     "output_type": "stream",
     "text": [
      "player0 won 77 | player1 won 23\n",
      "player0 won 19 | player1 won 81\n",
      "player0 won 32 | player1 won 68\n",
      "player0 won 0 | player1 won 100\n"
     ]
    }
   ],
   "source": [
    "def player1(game):\n",
    "    alphabetaMove(game, 3, triangleSQR_huristic)\n",
    "\n",
    "def player2(game):\n",
    "    #print(game.player)\n",
    "    alphabetaMove(game, 2, triangleSQR_huristic)\n",
    "\n",
    "tests(100, player1, player2, 2)\n",
    "tests(100, player2, player1, 2)\n",
    "tests(100, player1, player2, 1)\n",
    "tests(100, player2, player1, 1)\n",
    "\n",
    "\n",
    "# player0 won 33 | player1 won 67\n",
    "# player0 won 40 | player1 won 60\n",
    "# player0 won 33 | player1 won 67\n",
    "# player0 won 60 | player1 won 40"
   ]
  },
  {
   "cell_type": "code",
   "execution_count": 48,
   "metadata": {},
   "outputs": [
    {
     "name": "stdout",
     "output_type": "stream",
     "text": [
      "player0 won 89 | player1 won 11\n",
      "player0 won 23 | player1 won 77\n",
      "player0 won 77 | player1 won 23\n",
      "player0 won 0 | player1 won 100\n"
     ]
    }
   ],
   "source": [
    "def player1(game):\n",
    "    alphabetaMove(game, 3, triangleSQR_huristic)\n",
    "\n",
    "def player2(game):\n",
    "    #print(game.player)\n",
    "    alphabetaMove(game, 1, triangleSQR_huristic)\n",
    "\n",
    "tests(100, player1, player2, 2)\n",
    "tests(100, player2, player1, 2)\n",
    "tests(100, player1, player2, 1)\n",
    "tests(100, player2, player1, 1)"
   ]
  },
  {
   "cell_type": "code",
   "execution_count": 49,
   "metadata": {},
   "outputs": [
    {
     "name": "stdout",
     "output_type": "stream",
     "text": [
      "player0 won 73 | player1 won 27\n",
      "player0 won 25 | player1 won 75\n",
      "player0 won 34 | player1 won 66\n",
      "player0 won 5 | player1 won 95\n"
     ]
    }
   ],
   "source": [
    "def player1(game):\n",
    "    alphabetaMove(game, 2, triangleSQR_huristic)\n",
    "\n",
    "def player2(game):\n",
    "    #print(game.player)\n",
    "    alphabetaMove(game, 1, triangleSQR_huristic)\n",
    "\n",
    "tests(100, player1, player2, 2)\n",
    "tests(100, player2, player1, 2)\n",
    "tests(100, player1, player2, 1)\n",
    "tests(100, player2, player1, 1)"
   ]
  },
  {
   "cell_type": "code",
   "execution_count": 50,
   "metadata": {},
   "outputs": [
    {
     "name": "stdout",
     "output_type": "stream",
     "text": [
      "player0 won 78 | player1 won 22\n",
      "player0 won 26 | player1 won 74\n",
      "player0 won 46 | player1 won 54\n",
      "player0 won 7 | player1 won 93\n"
     ]
    }
   ],
   "source": [
    "def player1(game):\n",
    "    alphabetaMove(game, 2, triangleSQR_huristic)\n",
    "\n",
    "def player2(game):\n",
    "    #print(game.player)\n",
    "    alphabetaMove(game, 0, triangleSQR_huristic)\n",
    "\n",
    "tests(100, player1, player2, 2)\n",
    "tests(100, player2, player1, 2)\n",
    "tests(100, player1, player2, 1)\n",
    "tests(100, player2, player1, 1)"
   ]
  },
  {
   "cell_type": "code",
   "execution_count": 51,
   "metadata": {},
   "outputs": [
    {
     "name": "stdout",
     "output_type": "stream",
     "text": [
      "player0 won 71 | player1 won 29\n",
      "player0 won 19 | player1 won 81\n",
      "player0 won 41 | player1 won 59\n",
      "player0 won 11 | player1 won 89\n"
     ]
    }
   ],
   "source": [
    "def player1(game):\n",
    "    alphabetaMove(game, 1, triangleSQR_huristic)\n",
    "\n",
    "def player2(game):\n",
    "    #print(game.player)\n",
    "    alphabetaMove(game, 0, triangleSQR_huristic)\n",
    "\n",
    "tests(100, player1, player2, 2)\n",
    "tests(100, player2, player1, 2)\n",
    "tests(100, player1, player2, 1)\n",
    "tests(100, player2, player1, 1)"
   ]
  },
  {
   "cell_type": "markdown",
   "metadata": {},
   "source": [
    "### Test RF model vs the huristic model."
   ]
  },
  {
   "cell_type": "code",
   "execution_count": 262,
   "metadata": {},
   "outputs": [
    {
     "name": "stdout",
     "output_type": "stream",
     "text": [
      "player0 won 75 | player1 won 25\n",
      "player0 won 13 | player1 won 87\n",
      "player0 won 62 | player1 won 38\n",
      "player0 won 0 | player1 won 100\n"
     ]
    }
   ],
   "source": [
    "def huristic_rfd3(game : ColorableCliqueGame):\n",
    "    return rfd3.predict([game.state1D()])[0]\n",
    "\n",
    "def huristic_rfd5(game : ColorableCliqueGame):\n",
    "    return rfd5.predict([game.state1D()])[0]\n",
    "# print(huristic_rf(env), alphabetaMaxDepth(env, -99999, 99999, 2, triangle_huristic))\n",
    "def player1(game):\n",
    "    alphabetaMove(game, 0, huristic_rfd5)\n",
    "\n",
    "def player2(game):\n",
    "    #print(game.player)\n",
    "    alphabetaMove(game, 0, triangleSQR_huristic)\n",
    "\n",
    "tests(100, player1, player2, 2)\n",
    "tests(100, player2, player1, 2)\n",
    "tests(100, player1, player2, 1)\n",
    "tests(100, player2, player1, 1)\n",
    "\n",
    "# Bif rf, about 350 estimators.\n",
    "# player0 won 78 | player1 won 22\n",
    "# player0 won 11 | player1 won 89\n",
    "# player0 won 100 | player1 won 0\n",
    "# player0 won 0 | player1 won 100\n",
    "\n",
    "# small_rf (1m 26 sec), 10 + 3 estinators for 33 runs\n",
    "# player0 won 62 | player1 won 38\n",
    "# player0 won 14 | player1 won 86\n",
    "# player0 won 41 | player1 won 59\n",
    "# player0 won 21 | player1 won 79\n",
    "\n",
    "# small_rf, 2 + (2 for 41 runs) estimators. (1m)\n",
    "# player0 won 72 | player1 won 28\n",
    "# player0 won 14 | player1 won 86\n",
    "# player0 won 86 | player1 won 14\n",
    "# player0 won 27 | player1 won 73\n",
    "\n",
    "# rfd5\n",
    "# player0 won 88 | player1 won 12\n",
    "# player0 won 9 | player1 won 91\n",
    "# player0 won 61 | player1 won 39\n",
    "# player0 won 5 | player1 won 95"
   ]
  },
  {
   "cell_type": "code",
   "execution_count": 263,
   "metadata": {},
   "outputs": [
    {
     "name": "stdout",
     "output_type": "stream",
     "text": [
      "player0 won 72 | player1 won 28\n",
      "player0 won 14 | player1 won 86\n",
      "player0 won 46 | player1 won 54\n",
      "player0 won 6 | player1 won 94\n"
     ]
    }
   ],
   "source": [
    "def huristic_rfd3(game : ColorableCliqueGame):\n",
    "    return rfd3.predict([game.state1D()])[0]\n",
    "\n",
    "def huristic_rfd5(game : ColorableCliqueGame):\n",
    "    return rfd5.predict([game.state1D()])[0]\n",
    "\n",
    "# print(huristic_rf(env), alphabetaMaxDepth(env, -99999, 99999, 2, triangle_huristic))\n",
    "def player1(game):\n",
    "    alphabetaMove(game, 0, huristic_rfd5)\n",
    "\n",
    "def player2(game):\n",
    "    #print(game.player)\n",
    "    alphabetaMove(game, 1, triangleSQR_huristic)\n",
    "\n",
    "tests(100, player1, player2, 2)\n",
    "tests(100, player2, player1, 2)\n",
    "tests(100, player1, player2, 1)\n",
    "tests(100, player2, player1, 1)\n",
    "\n",
    "# 4 min.\n",
    "# player0 won 81 | player1 won 19\n",
    "# player0 won 7 | player1 won 93\n",
    "# player0 won 79 | player1 won 21\n",
    "# player0 won 6 | player1 won 94\n",
    "\n",
    "# small_rf (1m 27 sec), 10 + 3 estinators for 33 runs\n",
    "# player0 won 63 | player1 won 37\n",
    "# player0 won 18 | player1 won 82\n",
    "# player0 won 36 | player1 won 64\n",
    "# player0 won 16 | player1 won 84\n",
    "\n",
    "# small rf 2*41 estimators\n",
    "# player0 won 62 | player1 won 38\n",
    "# player0 won 22 | player1 won 78\n",
    "# player0 won 78 | player1 won 22\n",
    "# player0 won 5 | player1 won 95"
   ]
  },
  {
   "cell_type": "code",
   "execution_count": 244,
   "metadata": {},
   "outputs": [
    {
     "name": "stdout",
     "output_type": "stream",
     "text": [
      "player0 won 47 | player1 won 53\n",
      "player0 won 19 | player1 won 81\n",
      "player0 won 39 | player1 won 61\n",
      "player0 won 5 | player1 won 95\n"
     ]
    }
   ],
   "source": [
    "def huristic_rfd3(game : ColorableCliqueGame):\n",
    "    return rfd3.predict([game.state1D()])[0]\n",
    "\n",
    "def huristic_rfd5(game : ColorableCliqueGame):\n",
    "    return rfd5.predict([game.state1D()])[0]\n",
    "\n",
    "# print(huristic_rf(env), alphabetaMaxDepth(env, -99999, 99999, 2, triangle_huristic))\n",
    "def player1(game):\n",
    "    alphabetaMove(game, 0, huristic_rfd5)\n",
    "\n",
    "def player2(game):\n",
    "    #print(game.player)\n",
    "    alphabetaMove(game, 2, triangleSQR_huristic)\n",
    "\n",
    "tests(100, player1, player2, 2)\n",
    "tests(100, player2, player1, 2)\n",
    "tests(100, player1, player2, 1)\n",
    "tests(100, player2, player1, 1)\n",
    "\n",
    "# player0 won 37 | player1 won 63\n",
    "# player0 won 14 | player1 won 86\n",
    "# player0 won 34 | player1 won 66\n",
    "# player0 won 16 | player1 won 84"
   ]
  },
  {
   "cell_type": "code",
   "execution_count": 245,
   "metadata": {},
   "outputs": [
    {
     "name": "stdout",
     "output_type": "stream",
     "text": [
      "player0 won 51 | player1 won 49\n",
      "player0 won 38 | player1 won 62\n",
      "player0 won 3 | player1 won 97\n",
      "player0 won 16 | player1 won 84\n"
     ]
    }
   ],
   "source": [
    "def huristic_rfd3(game : ColorableCliqueGame):\n",
    "    return rfd3.predict([game.state1D()])[0]\n",
    "\n",
    "def huristic_rfd5(game : ColorableCliqueGame):\n",
    "    return rfd5.predict([game.state1D()])[0]\n",
    "\n",
    "# print(huristic_rf(env), alphabetaMaxDepth(env, -99999, 99999, 2, triangle_huristic))\n",
    "def player1(game):\n",
    "    alphabetaMove(game, 0, huristic_rfd3)\n",
    "\n",
    "def player2(game):\n",
    "    #print(game.player)\n",
    "    alphabetaMove(game, 3, triangleSQR_huristic)\n",
    "\n",
    "tests(100, player1, player2, 2)\n",
    "tests(100, player2, player1, 2)\n",
    "tests(100, player1, player2, 1)\n",
    "tests(100, player2, player1, 1)\n",
    "\n",
    "\n",
    "# player0 won 35 | player1 won 65\n",
    "# player0 won 31 | player1 won 69\n",
    "# player0 won 12 | player1 won 88\n",
    "# player0 won 17 | player1 won 83"
   ]
  },
  {
   "cell_type": "code",
   "execution_count": 259,
   "metadata": {},
   "outputs": [
    {
     "name": "stdout",
     "output_type": "stream",
     "text": [
      "player0 won 37 | player1 won 63\n",
      "player0 won 59 | player1 won 41\n",
      "player0 won 48 | player1 won 52\n",
      "player0 won 58 | player1 won 42\n"
     ]
    }
   ],
   "source": [
    "def huristic_rfd3(game : ColorableCliqueGame):\n",
    "    return rfd3.predict([game.state1D()])[0]\n",
    "\n",
    "def huristic_rfd5(game : ColorableCliqueGame):\n",
    "    return rfd5.predict([game.state1D()])[0]\n",
    "# print(huristic_rf(env), alphabetaMaxDepth(env, -99999, 99999, 2, triangle_huristic))\n",
    "def player1(game):\n",
    "    alphabetaMove(game, 0, huristic_rfd5)\n",
    "\n",
    "def player2(game):\n",
    "    #print(game.player)\n",
    "    alphabetaMove(game, 0, huristic_rfd3)\n",
    "\n",
    "tests(100, player1, player2, 2)\n",
    "tests(100, player2, player1, 2)\n",
    "tests(100, player1, player2, 1)\n",
    "tests(100, player2, player1, 1)\n",
    "\n",
    "\n",
    "# rfd5s2 vs rfd3 ( winner rfd3 ) \n",
    "# player0 won 20 | player1 won 80\n",
    "# player0 won 66 | player1 won 34\n",
    "# player0 won 16 | player1 won 84\n",
    "# player0 won 66 | player1 won 34"
   ]
  },
  {
   "cell_type": "code",
   "execution_count": 233,
   "metadata": {},
   "outputs": [
    {
     "name": "stdout",
     "output_type": "stream",
     "text": [
      "player0 won 73 | player1 won 27\n",
      "player0 won 25 | player1 won 75\n",
      "player0 won 41 | player1 won 59\n"
     ]
    },
    {
     "ename": "KeyboardInterrupt",
     "evalue": "",
     "output_type": "error",
     "traceback": [
      "\u001b[1;31m---------------------------------------------------------------------------\u001b[0m",
      "\u001b[1;31mKeyboardInterrupt\u001b[0m                         Traceback (most recent call last)",
      "\u001b[1;32mc:\\MyDirectory\\Programming\\Machine Learning\\Final\\modeltest.ipynb Cell 23'\u001b[0m in \u001b[0;36m<cell line: 15>\u001b[1;34m()\u001b[0m\n\u001b[0;32m     <a href='vscode-notebook-cell:/c%3A/MyDirectory/Programming/Machine%20Learning/Final/modeltest.ipynb#ch0000026?line=12'>13</a>\u001b[0m tests(\u001b[39m100\u001b[39m, player2, player1, \u001b[39m2\u001b[39m)\n\u001b[0;32m     <a href='vscode-notebook-cell:/c%3A/MyDirectory/Programming/Machine%20Learning/Final/modeltest.ipynb#ch0000026?line=13'>14</a>\u001b[0m tests(\u001b[39m100\u001b[39m, player1, player2, \u001b[39m1\u001b[39m)\n\u001b[1;32m---> <a href='vscode-notebook-cell:/c%3A/MyDirectory/Programming/Machine%20Learning/Final/modeltest.ipynb#ch0000026?line=14'>15</a>\u001b[0m tests(\u001b[39m100\u001b[39;49m, player2, player1, \u001b[39m1\u001b[39;49m)\n",
      "\u001b[1;32mc:\\MyDirectory\\Programming\\Machine Learning\\Final\\modeltest.ipynb Cell 9'\u001b[0m in \u001b[0;36mtests\u001b[1;34m(num, player1, player2, random_moves)\u001b[0m\n\u001b[0;32m      <a href='vscode-notebook-cell:/c%3A/MyDirectory/Programming/Machine%20Learning/Final/modeltest.ipynb#ch0000007?line=5'>6</a>\u001b[0m \u001b[39mfor\u001b[39;00m _ \u001b[39min\u001b[39;00m \u001b[39mrange\u001b[39m(random_moves):\n\u001b[0;32m      <a href='vscode-notebook-cell:/c%3A/MyDirectory/Programming/Machine%20Learning/Final/modeltest.ipynb#ch0000007?line=6'>7</a>\u001b[0m     random_move(env)\n\u001b[1;32m----> <a href='vscode-notebook-cell:/c%3A/MyDirectory/Programming/Machine%20Learning/Final/modeltest.ipynb#ch0000007?line=7'>8</a>\u001b[0m FuncVsFunc(env, player1, player2)\n\u001b[0;32m      <a href='vscode-notebook-cell:/c%3A/MyDirectory/Programming/Machine%20Learning/Final/modeltest.ipynb#ch0000007?line=8'>9</a>\u001b[0m \u001b[39mif\u001b[39;00m env\u001b[39m.\u001b[39mwinner \u001b[39m==\u001b[39m \u001b[39m0\u001b[39m:\n\u001b[0;32m     <a href='vscode-notebook-cell:/c%3A/MyDirectory/Programming/Machine%20Learning/Final/modeltest.ipynb#ch0000007?line=9'>10</a>\u001b[0m     p0wins \u001b[39m+\u001b[39m\u001b[39m=\u001b[39m \u001b[39m1\u001b[39m\n",
      "\u001b[1;32mc:\\MyDirectory\\Programming\\Machine Learning\\Final\\modeltest.ipynb Cell 7'\u001b[0m in \u001b[0;36mFuncVsFunc\u001b[1;34m(game, player1DecisionFunc, player2DecisionFunc)\u001b[0m\n\u001b[0;32m      <a href='vscode-notebook-cell:/c%3A/MyDirectory/Programming/Machine%20Learning/Final/modeltest.ipynb#ch0000006?line=4'>5</a>\u001b[0m     player1DecisionFunc(game)\n\u001b[0;32m      <a href='vscode-notebook-cell:/c%3A/MyDirectory/Programming/Machine%20Learning/Final/modeltest.ipynb#ch0000006?line=5'>6</a>\u001b[0m \u001b[39melse\u001b[39;00m:\n\u001b[1;32m----> <a href='vscode-notebook-cell:/c%3A/MyDirectory/Programming/Machine%20Learning/Final/modeltest.ipynb#ch0000006?line=6'>7</a>\u001b[0m     player2DecisionFunc(game)\n",
      "\u001b[1;32mc:\\MyDirectory\\Programming\\Machine Learning\\Final\\modeltest.ipynb Cell 23'\u001b[0m in \u001b[0;36mplayer1\u001b[1;34m(game)\u001b[0m\n\u001b[0;32m      <a href='vscode-notebook-cell:/c%3A/MyDirectory/Programming/Machine%20Learning/Final/modeltest.ipynb#ch0000026?line=4'>5</a>\u001b[0m \u001b[39mdef\u001b[39;00m \u001b[39mplayer1\u001b[39m(game):\n\u001b[1;32m----> <a href='vscode-notebook-cell:/c%3A/MyDirectory/Programming/Machine%20Learning/Final/modeltest.ipynb#ch0000026?line=5'>6</a>\u001b[0m     alphabetaMove(game, \u001b[39m1\u001b[39;49m, huristic_rf)\n",
      "File \u001b[1;32mc:\\MyDirectory\\Programming\\Machine Learning\\Final\\gameEnvF.py:208\u001b[0m, in \u001b[0;36malphabetaMove\u001b[1;34m(game, depth, huristic_func)\u001b[0m\n\u001b[0;32m    205\u001b[0m \u001b[39mfor\u001b[39;00m move \u001b[39min\u001b[39;00m moves:\n\u001b[0;32m    206\u001b[0m     game\u001b[39m.\u001b[39mapplyMove(move)\n\u001b[0;32m    207\u001b[0m     score \u001b[39m=\u001b[39m color \u001b[39m*\u001b[39m \\\n\u001b[1;32m--> 208\u001b[0m         alphabetaMaxDepth(game, \u001b[39m-\u001b[39;49m\u001b[39m99999\u001b[39;49m, \u001b[39m99999\u001b[39;49m, depth, huristic_func)\n\u001b[0;32m    209\u001b[0m     game\u001b[39m.\u001b[39mundo()\n\u001b[0;32m    210\u001b[0m     \u001b[39mif\u001b[39;00m score \u001b[39m>\u001b[39m bestscore:\n",
      "File \u001b[1;32mc:\\MyDirectory\\Programming\\Machine Learning\\Final\\gameEnvF.py:176\u001b[0m, in \u001b[0;36malphabetaMaxDepth\u001b[1;34m(cliqueGame, alpha, beta, depth, huristic_function)\u001b[0m\n\u001b[0;32m    158\u001b[0m cliqueGame\u001b[39m.\u001b[39mapplyMove(move)\n\u001b[0;32m    159\u001b[0m \u001b[39m# after each move the current player can only lose.\u001b[39;00m\n\u001b[0;32m    160\u001b[0m \u001b[39m# assume that this is the turn of player 0.\u001b[39;00m\n\u001b[0;32m    161\u001b[0m \u001b[39m# if after playing 0 lost. (1 won)\u001b[39;00m\n\u001b[1;32m   (...)\u001b[0m\n\u001b[0;32m    173\u001b[0m \u001b[39m#         alphabetaMaxDepth(cliqueGame, alpha, beta, depth-1, huristicsf)\u001b[39;00m\n\u001b[0;32m    174\u001b[0m \u001b[39m# else:\u001b[39;00m\n\u001b[0;32m    175\u001b[0m score \u001b[39m=\u001b[39m color \u001b[39m*\u001b[39m \u001b[39m0.975\u001b[39m \u001b[39m*\u001b[39m \\\n\u001b[1;32m--> 176\u001b[0m     alphabetaMaxDepth(cliqueGame, \u001b[39m-\u001b[39;49mbeta, \u001b[39m-\u001b[39;49malpha,\n\u001b[0;32m    177\u001b[0m                       depth\u001b[39m-\u001b[39;49m\u001b[39m1\u001b[39;49m, huristic_function)\n\u001b[0;32m    178\u001b[0m cliqueGame\u001b[39m.\u001b[39mundo()\n\u001b[0;32m    180\u001b[0m \u001b[39mif\u001b[39;00m(score \u001b[39m>\u001b[39m\u001b[39m=\u001b[39m beta):\n",
      "File \u001b[1;32mc:\\MyDirectory\\Programming\\Machine Learning\\Final\\gameEnvF.py:153\u001b[0m, in \u001b[0;36malphabetaMaxDepth\u001b[1;34m(cliqueGame, alpha, beta, depth, huristic_function)\u001b[0m\n\u001b[0;32m    151\u001b[0m     \u001b[39mreturn\u001b[39;00m score\n\u001b[0;32m    152\u001b[0m \u001b[39mif\u001b[39;00m(depth \u001b[39m==\u001b[39m \u001b[39m0\u001b[39m):\n\u001b[1;32m--> 153\u001b[0m     \u001b[39mreturn\u001b[39;00m huristic_function(cliqueGame)\n\u001b[0;32m    155\u001b[0m \u001b[39m# curr = cliqueGame.player\u001b[39;00m\n\u001b[0;32m    156\u001b[0m color \u001b[39m=\u001b[39m \u001b[39m-\u001b[39m(cliqueGame\u001b[39m.\u001b[39mplayer \u001b[39m*\u001b[39m \u001b[39m2\u001b[39m \u001b[39m-\u001b[39m \u001b[39m1\u001b[39m)  \u001b[39m# if player 1 then color = -1\u001b[39;00m\n",
      "\u001b[1;32mc:\\MyDirectory\\Programming\\Machine Learning\\Final\\modeltest.ipynb Cell 23'\u001b[0m in \u001b[0;36mhuristic_rf\u001b[1;34m(game)\u001b[0m\n\u001b[0;32m      <a href='vscode-notebook-cell:/c%3A/MyDirectory/Programming/Machine%20Learning/Final/modeltest.ipynb#ch0000026?line=0'>1</a>\u001b[0m \u001b[39mdef\u001b[39;00m \u001b[39mhuristic_rf\u001b[39m(game : ColorableCliqueGame):\n\u001b[1;32m----> <a href='vscode-notebook-cell:/c%3A/MyDirectory/Programming/Machine%20Learning/Final/modeltest.ipynb#ch0000026?line=1'>2</a>\u001b[0m     \u001b[39mreturn\u001b[39;00m loaded_rf\u001b[39m.\u001b[39;49mpredict([game\u001b[39m.\u001b[39;49mstate1D()])[\u001b[39m0\u001b[39m]\n",
      "File \u001b[1;32mc:\\Users\\Michael\\anaconda3\\envs\\chessAi\\lib\\site-packages\\sklearn\\ensemble\\_forest.py:1004\u001b[0m, in \u001b[0;36mForestRegressor.predict\u001b[1;34m(self, X)\u001b[0m\n\u001b[0;32m   1002\u001b[0m \u001b[39m# Parallel loop\u001b[39;00m\n\u001b[0;32m   1003\u001b[0m lock \u001b[39m=\u001b[39m threading\u001b[39m.\u001b[39mLock()\n\u001b[1;32m-> 1004\u001b[0m Parallel(n_jobs\u001b[39m=\u001b[39;49mn_jobs, verbose\u001b[39m=\u001b[39;49m\u001b[39mself\u001b[39;49m\u001b[39m.\u001b[39;49mverbose, require\u001b[39m=\u001b[39;49m\u001b[39m\"\u001b[39;49m\u001b[39msharedmem\u001b[39;49m\u001b[39m\"\u001b[39;49m)(\n\u001b[0;32m   1005\u001b[0m     delayed(_accumulate_prediction)(e\u001b[39m.\u001b[39;49mpredict, X, [y_hat], lock)\n\u001b[0;32m   1006\u001b[0m     \u001b[39mfor\u001b[39;49;00m e \u001b[39min\u001b[39;49;00m \u001b[39mself\u001b[39;49m\u001b[39m.\u001b[39;49mestimators_\n\u001b[0;32m   1007\u001b[0m )\n\u001b[0;32m   1009\u001b[0m y_hat \u001b[39m/\u001b[39m\u001b[39m=\u001b[39m \u001b[39mlen\u001b[39m(\u001b[39mself\u001b[39m\u001b[39m.\u001b[39mestimators_)\n\u001b[0;32m   1011\u001b[0m \u001b[39mreturn\u001b[39;00m y_hat\n",
      "File \u001b[1;32mc:\\Users\\Michael\\anaconda3\\envs\\chessAi\\lib\\site-packages\\joblib\\parallel.py:1056\u001b[0m, in \u001b[0;36mParallel.__call__\u001b[1;34m(self, iterable)\u001b[0m\n\u001b[0;32m   1053\u001b[0m     \u001b[39mself\u001b[39m\u001b[39m.\u001b[39m_iterating \u001b[39m=\u001b[39m \u001b[39mFalse\u001b[39;00m\n\u001b[0;32m   1055\u001b[0m \u001b[39mwith\u001b[39;00m \u001b[39mself\u001b[39m\u001b[39m.\u001b[39m_backend\u001b[39m.\u001b[39mretrieval_context():\n\u001b[1;32m-> 1056\u001b[0m     \u001b[39mself\u001b[39;49m\u001b[39m.\u001b[39;49mretrieve()\n\u001b[0;32m   1057\u001b[0m \u001b[39m# Make sure that we get a last message telling us we are done\u001b[39;00m\n\u001b[0;32m   1058\u001b[0m elapsed_time \u001b[39m=\u001b[39m time\u001b[39m.\u001b[39mtime() \u001b[39m-\u001b[39m \u001b[39mself\u001b[39m\u001b[39m.\u001b[39m_start_time\n",
      "File \u001b[1;32mc:\\Users\\Michael\\anaconda3\\envs\\chessAi\\lib\\site-packages\\joblib\\parallel.py:935\u001b[0m, in \u001b[0;36mParallel.retrieve\u001b[1;34m(self)\u001b[0m\n\u001b[0;32m    933\u001b[0m \u001b[39mtry\u001b[39;00m:\n\u001b[0;32m    934\u001b[0m     \u001b[39mif\u001b[39;00m \u001b[39mgetattr\u001b[39m(\u001b[39mself\u001b[39m\u001b[39m.\u001b[39m_backend, \u001b[39m'\u001b[39m\u001b[39msupports_timeout\u001b[39m\u001b[39m'\u001b[39m, \u001b[39mFalse\u001b[39;00m):\n\u001b[1;32m--> 935\u001b[0m         \u001b[39mself\u001b[39m\u001b[39m.\u001b[39m_output\u001b[39m.\u001b[39mextend(job\u001b[39m.\u001b[39;49mget(timeout\u001b[39m=\u001b[39;49m\u001b[39mself\u001b[39;49m\u001b[39m.\u001b[39;49mtimeout))\n\u001b[0;32m    936\u001b[0m     \u001b[39melse\u001b[39;00m:\n\u001b[0;32m    937\u001b[0m         \u001b[39mself\u001b[39m\u001b[39m.\u001b[39m_output\u001b[39m.\u001b[39mextend(job\u001b[39m.\u001b[39mget())\n",
      "File \u001b[1;32mc:\\Users\\Michael\\anaconda3\\envs\\chessAi\\lib\\multiprocessing\\pool.py:765\u001b[0m, in \u001b[0;36mApplyResult.get\u001b[1;34m(self, timeout)\u001b[0m\n\u001b[0;32m    764\u001b[0m \u001b[39mdef\u001b[39;00m \u001b[39mget\u001b[39m(\u001b[39mself\u001b[39m, timeout\u001b[39m=\u001b[39m\u001b[39mNone\u001b[39;00m):\n\u001b[1;32m--> 765\u001b[0m     \u001b[39mself\u001b[39;49m\u001b[39m.\u001b[39;49mwait(timeout)\n\u001b[0;32m    766\u001b[0m     \u001b[39mif\u001b[39;00m \u001b[39mnot\u001b[39;00m \u001b[39mself\u001b[39m\u001b[39m.\u001b[39mready():\n\u001b[0;32m    767\u001b[0m         \u001b[39mraise\u001b[39;00m \u001b[39mTimeoutError\u001b[39;00m\n",
      "File \u001b[1;32mc:\\Users\\Michael\\anaconda3\\envs\\chessAi\\lib\\multiprocessing\\pool.py:762\u001b[0m, in \u001b[0;36mApplyResult.wait\u001b[1;34m(self, timeout)\u001b[0m\n\u001b[0;32m    761\u001b[0m \u001b[39mdef\u001b[39;00m \u001b[39mwait\u001b[39m(\u001b[39mself\u001b[39m, timeout\u001b[39m=\u001b[39m\u001b[39mNone\u001b[39;00m):\n\u001b[1;32m--> 762\u001b[0m     \u001b[39mself\u001b[39;49m\u001b[39m.\u001b[39;49m_event\u001b[39m.\u001b[39;49mwait(timeout)\n",
      "File \u001b[1;32mc:\\Users\\Michael\\anaconda3\\envs\\chessAi\\lib\\threading.py:600\u001b[0m, in \u001b[0;36mEvent.wait\u001b[1;34m(self, timeout)\u001b[0m\n\u001b[0;32m    598\u001b[0m signaled \u001b[39m=\u001b[39m \u001b[39mself\u001b[39m\u001b[39m.\u001b[39m_flag\n\u001b[0;32m    599\u001b[0m \u001b[39mif\u001b[39;00m \u001b[39mnot\u001b[39;00m signaled:\n\u001b[1;32m--> 600\u001b[0m     signaled \u001b[39m=\u001b[39m \u001b[39mself\u001b[39;49m\u001b[39m.\u001b[39;49m_cond\u001b[39m.\u001b[39;49mwait(timeout)\n\u001b[0;32m    601\u001b[0m \u001b[39mreturn\u001b[39;00m signaled\n",
      "File \u001b[1;32mc:\\Users\\Michael\\anaconda3\\envs\\chessAi\\lib\\threading.py:320\u001b[0m, in \u001b[0;36mCondition.wait\u001b[1;34m(self, timeout)\u001b[0m\n\u001b[0;32m    318\u001b[0m \u001b[39mtry\u001b[39;00m:    \u001b[39m# restore state no matter what (e.g., KeyboardInterrupt)\u001b[39;00m\n\u001b[0;32m    319\u001b[0m     \u001b[39mif\u001b[39;00m timeout \u001b[39mis\u001b[39;00m \u001b[39mNone\u001b[39;00m:\n\u001b[1;32m--> 320\u001b[0m         waiter\u001b[39m.\u001b[39;49macquire()\n\u001b[0;32m    321\u001b[0m         gotit \u001b[39m=\u001b[39m \u001b[39mTrue\u001b[39;00m\n\u001b[0;32m    322\u001b[0m     \u001b[39melse\u001b[39;00m:\n",
      "\u001b[1;31mKeyboardInterrupt\u001b[0m: "
     ]
    }
   ],
   "source": [
    "def huristic_rfd3(game : ColorableCliqueGame):\n",
    "    return rfd3.predict([game.state1D()])[0]\n",
    "\n",
    "def huristic_rfd5(game : ColorableCliqueGame):\n",
    "    return rfd5.predict([game.state1D()])[0]\n",
    "\n",
    "# print(huristic_rf(env), alphabetaMaxDepth(env, -99999, 99999, 2, triangle_huristic))\n",
    "def player1(game):\n",
    "    alphabetaMove(game, 1, huristic_rfd3)\n",
    "\n",
    "def player2(game):\n",
    "    #print(game.player)\n",
    "    alphabetaMove(game, 3, triangleSQR_huristic)\n",
    "\n",
    "tests(100, player1, player2, 2)\n",
    "tests(100, player2, player1, 2)\n",
    "tests(100, player1, player2, 1)\n",
    "tests(100, player2, player1, 1)\n",
    "\n",
    "# 35 min\n",
    "# player0 won 67 | player1 won 33\n",
    "# player0 won 15 | player1 won 85\n",
    "# player0 won 53 | player1 won 47\n",
    "# player0 won 31 | player1 won 69\n",
    "\n",
    "# small estomtaor 10 + 3*33\n",
    "# player0 won 55 | player1 won 45 ( after 5 min +-)"
   ]
  },
  {
   "cell_type": "code",
   "execution_count": 249,
   "metadata": {},
   "outputs": [],
   "source": [
    "env = ColorableCliqueGame(300, 300, 6, colors)"
   ]
  },
  {
   "cell_type": "code",
   "execution_count": 219,
   "metadata": {},
   "outputs": [
    {
     "name": "stdout",
     "output_type": "stream",
     "text": [
      "-1\n"
     ]
    },
    {
     "data": {
      "image/png": "[encoded data removed]",
      "text/plain": [
       "<Figure size 432x288 with 1 Axes>"
      ]
     },
     "metadata": {
      "needs_background": "light"
     },
     "output_type": "display_data"
    }
   ],
   "source": [
    "alphabetaMove(env, 1, huristic_rf)\n",
    "#alphabetaMove(env, 4, triangleSQR_huristic)\n",
    "print(env.winner)\n",
    "draw(env)"
   ]
  },
  {
   "cell_type": "code",
   "execution_count": 225,
   "metadata": {},
   "outputs": [
    {
     "data": {
      "text/plain": [
       "10"
      ]
     },
     "execution_count": 225,
     "metadata": {},
     "output_type": "execute_result"
    }
   ],
   "source": [
    "abs(X[0]).sum()"
   ]
  }
 ],
 "metadata": {
  "kernelspec": {
   "display_name": "Python 3.10.4 ('chessAi')",
   "language": "python",
   "name": "python3"
  },
  "language_info": {
   "codemirror_mode": {
    "name": "ipython",
    "version": 3
   },
   "file_extension": ".py",
   "mimetype": "text/x-python",
   "name": "python",
   "nbconvert_exporter": "python",
   "pygments_lexer": "ipython3",
   "version": "3.10.4"
  },
  "orig_nbformat": 4,
  "vscode": {
   "interpreter": {
    "hash": "9e56621c40734703c1226df9790e64197652162693e6cafdd98418add6b22949"
   }
  }
 },
 "nbformat": 4,
 "nbformat_minor": 2
}
